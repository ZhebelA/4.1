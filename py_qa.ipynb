{
  "nbformat": 4,
  "nbformat_minor": 0,
  "metadata": {
    "colab": {
      "name": "py_qa.ipynb",
      "provenance": [],
      "collapsed_sections": []
    },
    "kernelspec": {
      "name": "python3",
      "display_name": "Python 3"
    },
    "language_info": {
      "name": "python"
    }
  },
  "cells": [
    {
      "cell_type": "markdown",
      "metadata": {
        "id": "dK9dKGk3GiNJ"
      },
      "source": [
        "# Q&A\n",
        "\n",
        "Булыгин Олег:  \n",
        "* [LinkedIn](linkedin.com/in/obulygin)  \n",
        "* [Мой канал в ТГ по Python](https://t.me/solidtalk)"
      ]
    },
    {
      "cell_type": "markdown",
      "source": [
        "Мы изучили библиотеку реквестс, я так понимаю она магически работает с асинхронными запросами но тему асинхронности мы не затронули. Я правильно понимаю что резолв возвращаемых данных происходит автоматом?"
      ],
      "metadata": {
        "id": "AY1DurpcN_f5"
      }
    },
    {
      "cell_type": "markdown",
      "source": [
        "Не очень понятно, зачем нужно объявлять класс при взаимодействии с API и особенно зачем передавать туда токен. Ведь токен мы и так передаем в каждом запросе, а тут получается мы передаем сначала в экземпляр класса, а потом еще и в метод, в headers. Можно объяснить, как это работает? Спасибо."
      ],
      "metadata": {
        "id": "ZPdGsx6-OJEV"
      }
    },
    {
      "cell_type": "markdown",
      "source": [
        "Как можно красиво вывести отслеживание прогресса? Т.е. прогресс бар, спасибо"
      ],
      "metadata": {
        "id": "Co44YirJPUIa"
      }
    },
    {
      "cell_type": "markdown",
      "source": [
        "progress, tqdm"
      ],
      "metadata": {
        "id": "bTfhIAGPPY0l"
      }
    },
    {
      "cell_type": "markdown",
      "source": [
        " Что значит в задании - Все зависимости должны быть указаны в файле requiremеnts.txt.​  \n",
        "\n",
        " https://blog.solidtalk.ru/requirements"
      ],
      "metadata": {
        "id": "_vfJ8JVMPpvN"
      }
    },
    {
      "cell_type": "markdown",
      "source": [
        "Исходные данные для программы должны вводиться пользователем через консоль? или вынести необходимые переменные для редоктирования в коде достаточно?"
      ],
      "metadata": {
        "id": "aZZjVFjMQY-q"
      }
    },
    {
      "cell_type": "markdown",
      "source": [
        "Файлы обязательно скачивать на компьютер с программой, или можно сразу загружать на удаленный диск?"
      ],
      "metadata": {
        "id": "qB_F132NQ-GY"
      }
    },
    {
      "cell_type": "markdown",
      "source": [
        "Как лучше обработать все исключения связаные с ошибками запросов? их много..."
      ],
      "metadata": {
        "id": "qLra-ic5RF9S"
      }
    },
    {
      "cell_type": "markdown",
      "source": [
        "## lambda-функции"
      ],
      "metadata": {
        "id": "TtrLNuqXRciF"
      }
    },
    {
      "cell_type": "markdown",
      "metadata": {
        "id": "1whxQleKMlLv"
      },
      "source": [
        "Получим список из средних цен в каждой категории товаров"
      ]
    },
    {
      "cell_type": "code",
      "source": [
        "prices_by_categories = [[100, 200, 400, 600], [200, 500], [100, 200, 100, 100], [800, 900]]"
      ],
      "metadata": {
        "id": "P4rLnMtePqJC"
      },
      "execution_count": null,
      "outputs": []
    },
    {
      "cell_type": "code",
      "source": [
        "def get_avg_prices(prices):\n",
        "    mean_prices = []\n",
        "    for category in prices:\n",
        "        mean_prices.append(sum(category) / len(category))\n",
        "    return mean_prices\n",
        "\n",
        "get_avg_prices(prices_by_categories)"
      ],
      "metadata": {
        "colab": {
          "base_uri": "https://localhost:8080/"
        },
        "id": "djowkHvjR_0L",
        "outputId": "5c33672d-f837-4436-8f1a-80551d8c910c"
      },
      "execution_count": null,
      "outputs": [
        {
          "output_type": "execute_result",
          "data": {
            "text/plain": [
              "[325.0, 350.0, 125.0, 850.0]"
            ]
          },
          "metadata": {},
          "execution_count": 2
        }
      ]
    },
    {
      "cell_type": "code",
      "source": [
        "res = lambda category: sum(category) / len(category)\n",
        "res()"
      ],
      "metadata": {
        "id": "0XsXCN24Tmox"
      },
      "execution_count": null,
      "outputs": []
    },
    {
      "cell_type": "code",
      "source": [
        "# lambda x, y, z: x*y*z\n",
        "\n",
        "list(map(lambda category: sum(category) / len(category), prices_by_categories))"
      ],
      "metadata": {
        "colab": {
          "base_uri": "https://localhost:8080/"
        },
        "id": "WX8QWsNtSj7V",
        "outputId": "247b8ec3-5635-4d20-ac79-b6fd9e454e37"
      },
      "execution_count": null,
      "outputs": [
        {
          "output_type": "execute_result",
          "data": {
            "text/plain": [
              "[325.0, 350.0, 125.0, 850.0]"
            ]
          },
          "metadata": {},
          "execution_count": 6
        }
      ]
    },
    {
      "cell_type": "code",
      "source": [
        "geo_logs = [\n",
        "    {'visit1': ['Москва', 'Россия']},\n",
        "    {'visit2': ['Дели', 'Индия']},\n",
        "    {'visit3': ['Владимир', 'Россия']},\n",
        "    {'visit4': ['Лиссабон', 'Португалия']},\n",
        "    {'visit5': ['Париж', 'Франция']},\n",
        "    {'visit7': ['Тула', 'Россия']},\n",
        "    {'visit9': ['Курск', 'Россия']},\n",
        "    {'visit10': ['Архангельск', 'Россия']}\n",
        "]"
      ],
      "metadata": {
        "id": "HqjY-je5UVl8"
      },
      "execution_count": null,
      "outputs": []
    },
    {
      "cell_type": "code",
      "source": [
        "result = []\n",
        "for log in geo_logs:\n",
        "    \n",
        "    if 'Россия' in list(log.values())[0]:\n",
        "        result.append(log)\n",
        "        \n",
        "print(result)"
      ],
      "metadata": {
        "colab": {
          "base_uri": "https://localhost:8080/"
        },
        "id": "1g9mDeaPUj0D",
        "outputId": "6b07caf7-e3d6-4b0d-969c-4dd9e816fcf2"
      },
      "execution_count": null,
      "outputs": [
        {
          "output_type": "stream",
          "name": "stdout",
          "text": [
            "[{'visit1': ['Москва', 'Россия']}, {'visit3': ['Владимир', 'Россия']}, {'visit7': ['Тула', 'Россия']}, {'visit9': ['Курск', 'Россия']}, {'visit10': ['Архангельск', 'Россия']}]\n"
          ]
        }
      ]
    },
    {
      "cell_type": "code",
      "source": [
        "result = []\n",
        "for log in geo_logs:\n",
        "    # print(list(log.values())[0])\n",
        "    if 'Россия' in list(log.values())[0]:\n",
        "        result.append(log)\n",
        "        \n",
        "print(result)"
      ],
      "metadata": {
        "colab": {
          "base_uri": "https://localhost:8080/"
        },
        "id": "f5qUbnnPW5p2",
        "outputId": "eceef144-2ec2-4fb3-b4d7-58a506bdca6f"
      },
      "execution_count": null,
      "outputs": [
        {
          "output_type": "stream",
          "name": "stdout",
          "text": [
            "['Москва', 'Россия']\n",
            "['Дели', 'Индия']\n",
            "['Владимир', 'Россия']\n",
            "['Лиссабон', 'Португалия']\n",
            "['Париж', 'Франция']\n",
            "['Тула', 'Россия']\n",
            "['Курск', 'Россия']\n",
            "['Архангельск', 'Россия']\n",
            "[{'visit1': ['Москва', 'Россия']}, {'visit3': ['Владимир', 'Россия']}, {'visit7': ['Тула', 'Россия']}, {'visit9': ['Курск', 'Россия']}, {'visit10': ['Архангельск', 'Россия']}]\n"
          ]
        }
      ]
    },
    {
      "cell_type": "code",
      "source": [
        "list(filter(lambda log: 'Россия' in list(log.values())[0], geo_logs))"
      ],
      "metadata": {
        "colab": {
          "base_uri": "https://localhost:8080/"
        },
        "id": "L7dA8YY5VGXI",
        "outputId": "918084c6-5765-4455-ce4d-712ba0a84c43"
      },
      "execution_count": null,
      "outputs": [
        {
          "output_type": "execute_result",
          "data": {
            "text/plain": [
              "[{'visit1': ['Москва', 'Россия']},\n",
              " {'visit3': ['Владимир', 'Россия']},\n",
              " {'visit7': ['Тула', 'Россия']},\n",
              " {'visit9': ['Курск', 'Россия']},\n",
              " {'visit10': ['Архангельск', 'Россия']}]"
            ]
          },
          "metadata": {},
          "execution_count": 10
        }
      ]
    },
    {
      "cell_type": "code",
      "source": [
        "# cook_book = {\n",
        "#   'Омлет': [\n",
        "#     {'ingredient_name': 'Яйцо', 'quantity': 2, 'measure': 'шт.'},\n",
        "#     {'ingredient_name': 'Молоко', 'quantity': 100, 'measure': 'мл'},\n",
        "#     {'ingredient_name': 'Помидор', 'quantity': 2, 'measure': 'шт'}\n",
        "#     ],\n",
        "#   'Утка по-пекински': [\n",
        "#     {'ingredient_name': 'Утка', 'quantity': 1, 'measure': 'шт'},\n",
        "#     {'ingredient_name': 'Вода', 'quantity': 2, 'measure': 'л'},\n",
        "#     {'ingredient_name': 'Мед', 'quantity': 3, 'measure': 'ст.л'},\n",
        "#     {'ingredient_name': 'Соевый соус', 'quantity': 60, 'measure': 'мл'}\n",
        "#     ],\n",
        "#   'Запеченный картофель': [\n",
        "#     {'ingredient_name': 'Картофель', 'quantity': 1, 'measure': 'кг'},\n",
        "#     {'ingredient_name': 'Чеснок', 'quantity': 3, 'measure': 'зубч'},\n",
        "#     {'ingredient_name': 'Сыр гауда', 'quantity': 100, 'measure': 'г'},\n",
        "#     ]\n",
        "#   }       \n",
        "  \n",
        "#   get_shop_list_by_dishes([ 'Омлет', 'Омлет'], 2)\n",
        "\n",
        "#   {\n",
        "#   'Картофель': {'measure': 'кг', 'quantity': 2},\n",
        "#   'Молоко': {'measure': 'мл', 'quantity': 200},\n",
        "#   'Помидор': {'measure': 'шт', 'quantity': 4},\n",
        "#   'Сыр гауда': {'measure': 'г', 'quantity': 200},\n",
        "#   'Яйцо': {'measure': 'шт', 'quantity': 4},\n",
        "#   'Чеснок': {'measure': 'зубч', 'quantity': 6}\n",
        "# }"
      ],
      "metadata": {
        "id": "EgKt_E9rWfrM"
      },
      "execution_count": null,
      "outputs": []
    },
    {
      "cell_type": "code",
      "source": [
        "data = [\n",
        "    [13, 25, 23, 34],\n",
        "    [45, 32, 44, 47],\n",
        "    [12, 33, 23, 95],\n",
        "    [13, 53, 34, 35]\n",
        "]"
      ],
      "metadata": {
        "id": "AzyyN8tpbK99"
      },
      "execution_count": null,
      "outputs": []
    },
    {
      "cell_type": "code",
      "source": [
        "result = 0\n",
        "index = 0\n",
        "for row in data:\n",
        "    result += row[index]\n",
        "    index += 1\n",
        "print(result)"
      ],
      "metadata": {
        "colab": {
          "base_uri": "https://localhost:8080/"
        },
        "id": "L3ym0PeJbXm1",
        "outputId": "16f95b7f-9e58-407c-a6d7-36e645826698"
      },
      "execution_count": null,
      "outputs": [
        {
          "output_type": "stream",
          "name": "stdout",
          "text": [
            "103\n"
          ]
        }
      ]
    },
    {
      "cell_type": "code",
      "source": [
        "# [x**2 for x in range(1,10)]"
      ],
      "metadata": {
        "colab": {
          "base_uri": "https://localhost:8080/"
        },
        "id": "pUqMkjfNbcBq",
        "outputId": "385b76f3-8775-49ae-a51e-2d3a12eda727"
      },
      "execution_count": null,
      "outputs": [
        {
          "output_type": "execute_result",
          "data": {
            "text/plain": [
              "[1, 4, 9, 16, 25, 36, 49, 64, 81]"
            ]
          },
          "metadata": {},
          "execution_count": 17
        }
      ]
    },
    {
      "cell_type": "code",
      "source": [
        "result = 0\n",
        "for index, row in enumerate(data):\n",
        "    result += row[index]\n",
        "print(result)"
      ],
      "metadata": {
        "colab": {
          "base_uri": "https://localhost:8080/"
        },
        "id": "V8SCsVUwc2i8",
        "outputId": "af1775a9-3566-48a6-f838-e1b41b9f8e67"
      },
      "execution_count": null,
      "outputs": [
        {
          "output_type": "stream",
          "name": "stdout",
          "text": [
            "103\n"
          ]
        }
      ]
    },
    {
      "cell_type": "code",
      "source": [
        "list(enumerate(data))"
      ],
      "metadata": {
        "colab": {
          "base_uri": "https://localhost:8080/"
        },
        "id": "FZrFkyCgdA3s",
        "outputId": "a7e16691-57b3-4692-c8ff-4acadffca5d4"
      },
      "execution_count": null,
      "outputs": [
        {
          "output_type": "execute_result",
          "data": {
            "text/plain": [
              "[(0, [13, 25, 23, 34]),\n",
              " (1, [45, 32, 44, 47]),\n",
              " (2, [12, 33, 23, 95]),\n",
              " (3, [13, 53, 34, 35])]"
            ]
          },
          "metadata": {},
          "execution_count": 24
        }
      ]
    },
    {
      "cell_type": "code",
      "source": [
        "sum([row[index] for index, row in enumerate(data)])"
      ],
      "metadata": {
        "colab": {
          "base_uri": "https://localhost:8080/"
        },
        "id": "kuNW9kvibpFw",
        "outputId": "31eaffd9-41b7-4024-c241-0ec7a5f6e091"
      },
      "execution_count": null,
      "outputs": [
        {
          "output_type": "execute_result",
          "data": {
            "text/plain": [
              "103"
            ]
          },
          "metadata": {},
          "execution_count": 26
        }
      ]
    },
    {
      "cell_type": "code",
      "source": [
        "stream = [\n",
        "\t'2018-01-01,user1,3',\n",
        "\t'2018-01-07,user1,4',\n",
        "\t'2018-03-29,user1,1',\n",
        "\t'2018-04-04,user1,13',\n",
        "\t'2018-01-05,user2,7',\n",
        "\t'2018-06-14,user3,4',\n",
        "\t'2018-07-02,user3,10',\n",
        "\t'2018-03-21,user4,19',\n",
        "\t'2018-03-22,user4,4',\n",
        "\t'2018-04-22,user4,8',\n",
        "\t'2018-05-03,user4,9',\n",
        "\t'2018-05-11,user4,11',\n",
        "]"
      ],
      "metadata": {
        "id": "iYY4LiHHcFrK"
      },
      "execution_count": null,
      "outputs": []
    },
    {
      "cell_type": "code",
      "source": [
        "views = 0\n",
        "users = set()\n",
        "\n",
        "for el in stream:\n",
        "    splitted_el = el.split(',')\n",
        "    # print(splitted_el)\n",
        "    views += int(splitted_el[2])\n",
        "    users.add(splitted_el[1])\n",
        "\n",
        "print(views / len(users))"
      ],
      "metadata": {
        "colab": {
          "base_uri": "https://localhost:8080/"
        },
        "id": "LylpOx3FeGDz",
        "outputId": "5c0ec93c-1185-4017-c32b-84652cdda67f"
      },
      "execution_count": null,
      "outputs": [
        {
          "output_type": "stream",
          "name": "stdout",
          "text": [
            "23.25\n"
          ]
        }
      ]
    },
    {
      "cell_type": "code",
      "source": [
        "# views = sum([int(el.split(',')[2]) for el in stream])\n",
        "# users = len(set([el.split(',')[1] for el in stream]))\n",
        "sum([int(el.split(',')[2]) for el in stream]) / len(set([el.split(',')[1] for el in stream]))"
      ],
      "metadata": {
        "colab": {
          "base_uri": "https://localhost:8080/"
        },
        "id": "_mfqc18lfC1F",
        "outputId": "e8f9931f-a5a3-4cb2-df7f-57b537ee6ede"
      },
      "execution_count": null,
      "outputs": [
        {
          "output_type": "execute_result",
          "data": {
            "text/plain": [
              "23.25"
            ]
          },
          "metadata": {},
          "execution_count": 33
        }
      ]
    },
    {
      "cell_type": "markdown",
      "source": [
        "## Парсинг"
      ],
      "metadata": {
        "id": "2c17VmpThMcW"
      }
    },
    {
      "cell_type": "code",
      "source": [
        "import requests\n",
        "from bs4 import BeautifulSoup"
      ],
      "metadata": {
        "id": "U8YL4954hNSR"
      },
      "execution_count": null,
      "outputs": []
    },
    {
      "cell_type": "code",
      "source": [
        "res = requests.get('https://netology.ru/blog/')\n",
        "res.text"
      ],
      "metadata": {
        "id": "E7RGRzTihRUv"
      },
      "execution_count": null,
      "outputs": []
    },
    {
      "cell_type": "code",
      "source": [
        "soup = BeautifulSoup(res.text)\n",
        "soup"
      ],
      "metadata": {
        "id": "7gtGZtTbiTEK"
      },
      "execution_count": null,
      "outputs": []
    },
    {
      "cell_type": "code",
      "source": [
        "posts = soup.find_all('div', 'posts__item')\n",
        "len(posts)"
      ],
      "metadata": {
        "colab": {
          "base_uri": "https://localhost:8080/"
        },
        "id": "qpS3l955iWgT",
        "outputId": "81d7a61a-cdd0-40a5-e733-f9ff27207709"
      },
      "execution_count": null,
      "outputs": [
        {
          "output_type": "execute_result",
          "data": {
            "text/plain": [
              "15"
            ]
          },
          "metadata": {},
          "execution_count": 41
        }
      ]
    },
    {
      "cell_type": "code",
      "source": [
        "import pandas as pd\n",
        "netology_blog = pd.DataFrame()\n",
        "\n",
        "for post in posts:\n",
        "    title = post.find('a', 'posts__link').text\n",
        "    # print(title)\n",
        "    date = post.find('div', 'posts__date').text\n",
        "    # print(date)\n",
        "    link = post.find('a', 'posts__link').get('href')\n",
        "    # print(link)\n",
        "    category = post.find('a', 'tags__item').text\n",
        "    # print(category)\n",
        "    row = pd.DataFrame([{'date': date, 'title': title, 'link': link, 'category': category}])\n",
        "    netology_blog = pd.concat([netology_blog, row])\n",
        "netology_blog\n",
        "\n",
        "# netology_blog.to_excel('res.xlsx')"
      ],
      "metadata": {
        "colab": {
          "base_uri": "https://localhost:8080/",
          "height": 520
        },
        "id": "FAXJZw_-inhC",
        "outputId": "97cccab9-9f4c-4a08-a232-eed3e3be2252"
      },
      "execution_count": null,
      "outputs": [
        {
          "output_type": "execute_result",
          "data": {
            "text/plain": [
              "           date                                              title  \\\n",
              "0  29 июня 2022  10 книг об эмоциональном выгорании: как предуп...   \n",
              "0  28 июня 2022  Где начинающему IT-специалисту искать стажиров...   \n",
              "0  28 июня 2022  15 сервисов для организации работы медиа и ана...   \n",
              "0  28 июня 2022  Продажа мерча на маркетплейсе: как выявить пот...   \n",
              "0  27 июня 2022  Форматы онлайн-обучения: какие бывают и как вы...   \n",
              "0  27 июня 2022  Основные кризисные тренды и задачи корпоративн...   \n",
              "0  24 июня 2022  Исследование целевой аудитории: как это делать...   \n",
              "0  23 июня 2022  Как фаундеру стартапа правильно выстроить отно...   \n",
              "0  21 июня 2022  Продвижение в Telegram: аудитория, особенности...   \n",
              "0  21 июня 2022     8 воронок продаж для образовательной платформы   \n",
              "0  17 июня 2022         5 ключевых ошибок начинающих PR-менеджеров   \n",
              "0  17 июня 2022  Личный опыт: 5 неочевидных ошибок в работе с з...   \n",
              "0  16 июня 2022  Разработка онлайн-курсов: 7 сервисов для созда...   \n",
              "0  16 июня 2022  Data Science-дайджест: что почитать, посмотрет...   \n",
              "0  15 июня 2022  30 сервисов для работы с текстом и картинками:...   \n",
              "\n",
              "                                                link             category  \n",
              "0  https://netology.ru/blog/06-2022-edmarket-book...        Книжная полка  \n",
              "0     https://netology.ru/blog/06-2022-it-internship              Карьера  \n",
              "0  https://netology.ru/blog/06-2022-organisation-...       Продуктивность  \n",
              "0  https://netology.ru/blog/06-2022-merch-sale-on...          Разобраться  \n",
              "0  https://netology.ru/blog/06-2022-edmarket-onli...          Разобраться  \n",
              "0  https://netology.ru/blog/06-2022-corporate-tra...          Разобраться  \n",
              "0  https://netology.ru/blog/06-2022-edmarket-targ...       Продуктивность  \n",
              "0  https://netology.ru/blog/06-2022-founder-and-i...  Предпринимательство  \n",
              "0  https://netology.ru/blog/06-2022-promotion-in-...          Разобраться  \n",
              "0  https://netology.ru/blog/06-2022-edmarket-sale...          Разобраться  \n",
              "0  https://netology.ru/blog/06-2022-pr-beginners-...              Карьера  \n",
              "0  https://netology.ru/blog/06-2022-copywriter-mi...              Карьера  \n",
              "0  https://netology.ru/blog/06-2022-interactive-e...       Продуктивность  \n",
              "0  https://netology.ru/blog/06-2022-data-science-...        Книжная полка  \n",
              "0  https://netology.ru/blog/06-2022-text-image-tools       Продуктивность  "
            ],
            "text/html": [
              "\n",
              "  <div id=\"df-3ee4ea4f-d501-4fb1-9643-aa719fb8ee44\">\n",
              "    <div class=\"colab-df-container\">\n",
              "      <div>\n",
              "<style scoped>\n",
              "    .dataframe tbody tr th:only-of-type {\n",
              "        vertical-align: middle;\n",
              "    }\n",
              "\n",
              "    .dataframe tbody tr th {\n",
              "        vertical-align: top;\n",
              "    }\n",
              "\n",
              "    .dataframe thead th {\n",
              "        text-align: right;\n",
              "    }\n",
              "</style>\n",
              "<table border=\"1\" class=\"dataframe\">\n",
              "  <thead>\n",
              "    <tr style=\"text-align: right;\">\n",
              "      <th></th>\n",
              "      <th>date</th>\n",
              "      <th>title</th>\n",
              "      <th>link</th>\n",
              "      <th>category</th>\n",
              "    </tr>\n",
              "  </thead>\n",
              "  <tbody>\n",
              "    <tr>\n",
              "      <th>0</th>\n",
              "      <td>29 июня 2022</td>\n",
              "      <td>10 книг об эмоциональном выгорании: как предуп...</td>\n",
              "      <td>https://netology.ru/blog/06-2022-edmarket-book...</td>\n",
              "      <td>Книжная полка</td>\n",
              "    </tr>\n",
              "    <tr>\n",
              "      <th>0</th>\n",
              "      <td>28 июня 2022</td>\n",
              "      <td>Где начинающему IT-специалисту искать стажиров...</td>\n",
              "      <td>https://netology.ru/blog/06-2022-it-internship</td>\n",
              "      <td>Карьера</td>\n",
              "    </tr>\n",
              "    <tr>\n",
              "      <th>0</th>\n",
              "      <td>28 июня 2022</td>\n",
              "      <td>15 сервисов для организации работы медиа и ана...</td>\n",
              "      <td>https://netology.ru/blog/06-2022-organisation-...</td>\n",
              "      <td>Продуктивность</td>\n",
              "    </tr>\n",
              "    <tr>\n",
              "      <th>0</th>\n",
              "      <td>28 июня 2022</td>\n",
              "      <td>Продажа мерча на маркетплейсе: как выявить пот...</td>\n",
              "      <td>https://netology.ru/blog/06-2022-merch-sale-on...</td>\n",
              "      <td>Разобраться</td>\n",
              "    </tr>\n",
              "    <tr>\n",
              "      <th>0</th>\n",
              "      <td>27 июня 2022</td>\n",
              "      <td>Форматы онлайн-обучения: какие бывают и как вы...</td>\n",
              "      <td>https://netology.ru/blog/06-2022-edmarket-onli...</td>\n",
              "      <td>Разобраться</td>\n",
              "    </tr>\n",
              "    <tr>\n",
              "      <th>0</th>\n",
              "      <td>27 июня 2022</td>\n",
              "      <td>Основные кризисные тренды и задачи корпоративн...</td>\n",
              "      <td>https://netology.ru/blog/06-2022-corporate-tra...</td>\n",
              "      <td>Разобраться</td>\n",
              "    </tr>\n",
              "    <tr>\n",
              "      <th>0</th>\n",
              "      <td>24 июня 2022</td>\n",
              "      <td>Исследование целевой аудитории: как это делать...</td>\n",
              "      <td>https://netology.ru/blog/06-2022-edmarket-targ...</td>\n",
              "      <td>Продуктивность</td>\n",
              "    </tr>\n",
              "    <tr>\n",
              "      <th>0</th>\n",
              "      <td>23 июня 2022</td>\n",
              "      <td>Как фаундеру стартапа правильно выстроить отно...</td>\n",
              "      <td>https://netology.ru/blog/06-2022-founder-and-i...</td>\n",
              "      <td>Предпринимательство</td>\n",
              "    </tr>\n",
              "    <tr>\n",
              "      <th>0</th>\n",
              "      <td>21 июня 2022</td>\n",
              "      <td>Продвижение в Telegram: аудитория, особенности...</td>\n",
              "      <td>https://netology.ru/blog/06-2022-promotion-in-...</td>\n",
              "      <td>Разобраться</td>\n",
              "    </tr>\n",
              "    <tr>\n",
              "      <th>0</th>\n",
              "      <td>21 июня 2022</td>\n",
              "      <td>8 воронок продаж для образовательной платформы</td>\n",
              "      <td>https://netology.ru/blog/06-2022-edmarket-sale...</td>\n",
              "      <td>Разобраться</td>\n",
              "    </tr>\n",
              "    <tr>\n",
              "      <th>0</th>\n",
              "      <td>17 июня 2022</td>\n",
              "      <td>5 ключевых ошибок начинающих PR-менеджеров</td>\n",
              "      <td>https://netology.ru/blog/06-2022-pr-beginners-...</td>\n",
              "      <td>Карьера</td>\n",
              "    </tr>\n",
              "    <tr>\n",
              "      <th>0</th>\n",
              "      <td>17 июня 2022</td>\n",
              "      <td>Личный опыт: 5 неочевидных ошибок в работе с з...</td>\n",
              "      <td>https://netology.ru/blog/06-2022-copywriter-mi...</td>\n",
              "      <td>Карьера</td>\n",
              "    </tr>\n",
              "    <tr>\n",
              "      <th>0</th>\n",
              "      <td>16 июня 2022</td>\n",
              "      <td>Разработка онлайн-курсов: 7 сервисов для созда...</td>\n",
              "      <td>https://netology.ru/blog/06-2022-interactive-e...</td>\n",
              "      <td>Продуктивность</td>\n",
              "    </tr>\n",
              "    <tr>\n",
              "      <th>0</th>\n",
              "      <td>16 июня 2022</td>\n",
              "      <td>Data Science-дайджест: что почитать, посмотрет...</td>\n",
              "      <td>https://netology.ru/blog/06-2022-data-science-...</td>\n",
              "      <td>Книжная полка</td>\n",
              "    </tr>\n",
              "    <tr>\n",
              "      <th>0</th>\n",
              "      <td>15 июня 2022</td>\n",
              "      <td>30 сервисов для работы с текстом и картинками:...</td>\n",
              "      <td>https://netology.ru/blog/06-2022-text-image-tools</td>\n",
              "      <td>Продуктивность</td>\n",
              "    </tr>\n",
              "  </tbody>\n",
              "</table>\n",
              "</div>\n",
              "      <button class=\"colab-df-convert\" onclick=\"convertToInteractive('df-3ee4ea4f-d501-4fb1-9643-aa719fb8ee44')\"\n",
              "              title=\"Convert this dataframe to an interactive table.\"\n",
              "              style=\"display:none;\">\n",
              "        \n",
              "  <svg xmlns=\"http://www.w3.org/2000/svg\" height=\"24px\"viewBox=\"0 0 24 24\"\n",
              "       width=\"24px\">\n",
              "    <path d=\"M0 0h24v24H0V0z\" fill=\"none\"/>\n",
              "    <path d=\"M18.56 5.44l.94 2.06.94-2.06 2.06-.94-2.06-.94-.94-2.06-.94 2.06-2.06.94zm-11 1L8.5 8.5l.94-2.06 2.06-.94-2.06-.94L8.5 2.5l-.94 2.06-2.06.94zm10 10l.94 2.06.94-2.06 2.06-.94-2.06-.94-.94-2.06-.94 2.06-2.06.94z\"/><path d=\"M17.41 7.96l-1.37-1.37c-.4-.4-.92-.59-1.43-.59-.52 0-1.04.2-1.43.59L10.3 9.45l-7.72 7.72c-.78.78-.78 2.05 0 2.83L4 21.41c.39.39.9.59 1.41.59.51 0 1.02-.2 1.41-.59l7.78-7.78 2.81-2.81c.8-.78.8-2.07 0-2.86zM5.41 20L4 18.59l7.72-7.72 1.47 1.35L5.41 20z\"/>\n",
              "  </svg>\n",
              "      </button>\n",
              "      \n",
              "  <style>\n",
              "    .colab-df-container {\n",
              "      display:flex;\n",
              "      flex-wrap:wrap;\n",
              "      gap: 12px;\n",
              "    }\n",
              "\n",
              "    .colab-df-convert {\n",
              "      background-color: #E8F0FE;\n",
              "      border: none;\n",
              "      border-radius: 50%;\n",
              "      cursor: pointer;\n",
              "      display: none;\n",
              "      fill: #1967D2;\n",
              "      height: 32px;\n",
              "      padding: 0 0 0 0;\n",
              "      width: 32px;\n",
              "    }\n",
              "\n",
              "    .colab-df-convert:hover {\n",
              "      background-color: #E2EBFA;\n",
              "      box-shadow: 0px 1px 2px rgba(60, 64, 67, 0.3), 0px 1px 3px 1px rgba(60, 64, 67, 0.15);\n",
              "      fill: #174EA6;\n",
              "    }\n",
              "\n",
              "    [theme=dark] .colab-df-convert {\n",
              "      background-color: #3B4455;\n",
              "      fill: #D2E3FC;\n",
              "    }\n",
              "\n",
              "    [theme=dark] .colab-df-convert:hover {\n",
              "      background-color: #434B5C;\n",
              "      box-shadow: 0px 1px 3px 1px rgba(0, 0, 0, 0.15);\n",
              "      filter: drop-shadow(0px 1px 2px rgba(0, 0, 0, 0.3));\n",
              "      fill: #FFFFFF;\n",
              "    }\n",
              "  </style>\n",
              "\n",
              "      <script>\n",
              "        const buttonEl =\n",
              "          document.querySelector('#df-3ee4ea4f-d501-4fb1-9643-aa719fb8ee44 button.colab-df-convert');\n",
              "        buttonEl.style.display =\n",
              "          google.colab.kernel.accessAllowed ? 'block' : 'none';\n",
              "\n",
              "        async function convertToInteractive(key) {\n",
              "          const element = document.querySelector('#df-3ee4ea4f-d501-4fb1-9643-aa719fb8ee44');\n",
              "          const dataTable =\n",
              "            await google.colab.kernel.invokeFunction('convertToInteractive',\n",
              "                                                     [key], {});\n",
              "          if (!dataTable) return;\n",
              "\n",
              "          const docLinkHtml = 'Like what you see? Visit the ' +\n",
              "            '<a target=\"_blank\" href=https://colab.research.google.com/notebooks/data_table.ipynb>data table notebook</a>'\n",
              "            + ' to learn more about interactive tables.';\n",
              "          element.innerHTML = '';\n",
              "          dataTable['output_type'] = 'display_data';\n",
              "          await google.colab.output.renderOutput(dataTable, element);\n",
              "          const docLink = document.createElement('div');\n",
              "          docLink.innerHTML = docLinkHtml;\n",
              "          element.appendChild(docLink);\n",
              "        }\n",
              "      </script>\n",
              "    </div>\n",
              "  </div>\n",
              "  "
            ]
          },
          "metadata": {},
          "execution_count": 52
        }
      ]
    },
    {
      "cell_type": "code",
      "source": [
        ""
      ],
      "metadata": {
        "id": "rTAma5xRko_Q"
      },
      "execution_count": null,
      "outputs": []
    }
  ]
}